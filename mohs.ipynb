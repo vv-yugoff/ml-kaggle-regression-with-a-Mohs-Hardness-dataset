{
 "cells": [
  {
   "cell_type": "code",
   "execution_count": 1,
   "id": "233828a2-d84b-4fbe-babe-1a7592771ce4",
   "metadata": {},
   "outputs": [
    {
     "name": "stdout",
     "output_type": "stream",
     "text": [
      "Best model: GradientBoostingRegressor(learning_rate=0.05, max_depth=7, n_estimators=50,\n",
      "                          random_state=1)\n",
      "Best parameters: {'learning_rate': 0.05, 'max_depth': 7, 'n_estimators': 50}\n"
     ]
    }
   ],
   "source": [
    "import pandas as pd\n",
    "from sklearn.ensemble import GradientBoostingRegressor\n",
    "from sklearn.model_selection import GridSearchCV\n",
    "\n",
    "train_data = pd.read_csv('train.csv')\n",
    "test_data = pd.read_csv('test.csv')\n",
    "\n",
    "X_train = train_data.drop(['Hardness'], axis=1)\n",
    "y_train = train_data['Hardness']\n",
    "X_test = test_data.copy()\n",
    "\n",
    "param_grid = {\n",
    "    'n_estimators': [50, 100, 200],\n",
    "    'max_depth': [3, 5, 7],\n",
    "    'learning_rate': [0.1, 0.05, 0.01]\n",
    "}\n",
    "\n",
    "model = GradientBoostingRegressor(random_state=1)\n",
    "grid_search = GridSearchCV(model, param_grid, cv=5)\n",
    "grid_search.fit(X_train, y_train)\n",
    "\n",
    "best_model = grid_search.best_estimator_\n",
    "print('Best model:', best_model)\n",
    "best_params = grid_search.best_params_\n",
    "print('Best parameters:', best_params)\n",
    "\n",
    "y_pred = best_model.predict(X_test)\n",
    "\n",
    "output = pd.DataFrame({\n",
    "    'id': X_test.id,\n",
    "    'Hardness': y_pred\n",
    "})\n",
    "\n",
    "output.to_csv('predictions.csv', index=False)\n"
   ]
  }
 ],
 "metadata": {
  "kernelspec": {
   "display_name": "Python 3 (ipykernel)",
   "language": "python",
   "name": "python3"
  },
  "language_info": {
   "codemirror_mode": {
    "name": "ipython",
    "version": 3
   },
   "file_extension": ".py",
   "mimetype": "text/x-python",
   "name": "python",
   "nbconvert_exporter": "python",
   "pygments_lexer": "ipython3",
   "version": "3.10.12"
  }
 },
 "nbformat": 4,
 "nbformat_minor": 5
}
